{
 "cells": [
  {
   "cell_type": "code",
   "execution_count": 1,
   "metadata": {},
   "outputs": [],
   "source": [
    "import pandas as pd \n",
    "import numpy as np\n",
    "from sklearn.preprocessing import StandardScaler\n",
    "from sklearn.model_selection import train_test_split\n",
    "from sklearn.ensemble import RandomForestRegressor\n",
    "import pickle\n",
    "from sklearn.preprocessing import MinMaxScaler\n",
    "from sklearn.model_selection import train_test_split\n",
    "from sklearn.metrics import classification_report, confusion_matrix\n",
    "from sklearn.ensemble import GradientBoostingClassifier\n",
    "from xgboost import XGBClassifier\n",
    "from sklearn import metrics\n",
    "\n",
    "df = pd.read_csv('prep_application_train.csv')\n",
    "df1 = np.nan_to_num(df)\n",
    "X = df1[:, 1:13]\n",
    "y = df1[:, 0]\n",
    "sc = StandardScaler()\n",
    "X = sc.fit_transform(X)\n",
    "X_trains, X_tests, y_trains, y_tests = train_test_split(X, y, test_size=0.2, random_state=0)"
   ]
  },
  {
   "cell_type": "code",
   "execution_count": 2,
   "metadata": {},
   "outputs": [],
   "source": [
    "#Let's import our models\n",
    "\n",
    "RandomForest = pickle.load(open('Random_forest.sav', 'rb'))\n",
    "GradientBoosting = pickle.load(open('Gradient_boosting.sav', 'rb'))\n",
    "Xgboost = pickle.load(open('Xgboost.sav', 'rb'))\n",
    "\n"
   ]
  },
  {
   "cell_type": "code",
   "execution_count": 3,
   "metadata": {},
   "outputs": [
    {
     "name": "stdout",
     "output_type": "stream",
     "text": [
      "Mean Absolute Error: 0.15131751025695223\n",
      "Mean Squared Error: 0.07976527815038831\n",
      "Root Mean Squared Error: 0.28242747414228014\n"
     ]
    }
   ],
   "source": [
    "#Random Forest Prediction \n",
    "y_pred = RandomForest.predict(X_tests)\n",
    "print('Mean Absolute Error:', metrics.mean_absolute_error(y_tests, y_pred))\n",
    "print('Mean Squared Error:', metrics.mean_squared_error(y_tests, y_pred))\n",
    "print('Root Mean Squared Error:', np.sqrt(metrics.mean_squared_error(y_tests, y_pred)))"
   ]
  },
  {
   "cell_type": "code",
   "execution_count": 4,
   "metadata": {},
   "outputs": [
    {
     "name": "stdout",
     "output_type": "stream",
     "text": [
      "Confusion Matrix:\n",
      "[[56646     2]\n",
      " [ 4855     0]]\n",
      "Classification Report\n",
      "              precision    recall  f1-score   support\n",
      "\n",
      "         0.0       0.92      1.00      0.96     56648\n",
      "         1.0       0.00      0.00      0.00      4855\n",
      "\n",
      "    accuracy                           0.92     61503\n",
      "   macro avg       0.46      0.50      0.48     61503\n",
      "weighted avg       0.85      0.92      0.88     61503\n",
      "\n"
     ]
    }
   ],
   "source": [
    "#Gradient Boosting Prediction \n",
    "predictions = GradientBoosting.predict(X_tests)\n",
    "print(\"Confusion Matrix:\")\n",
    "print(confusion_matrix(y_tests, predictions))\n",
    "print(\"Classification Report\")\n",
    "print(classification_report(y_tests, predictions))"
   ]
  },
  {
   "cell_type": "code",
   "execution_count": 5,
   "metadata": {},
   "outputs": [
    {
     "name": "stdout",
     "output_type": "stream",
     "text": [
      "0.9209957237858316\n"
     ]
    }
   ],
   "source": [
    "#Xgboost Prediction \n",
    "score = Xgboost.score(X_tests, y_tests)\n",
    "print(score)"
   ]
  }
 ],
 "metadata": {
  "kernelspec": {
   "display_name": "Python 3",
   "language": "python",
   "name": "python3"
  },
  "language_info": {
   "codemirror_mode": {
    "name": "ipython",
    "version": 3
   },
   "file_extension": ".py",
   "mimetype": "text/x-python",
   "name": "python",
   "nbconvert_exporter": "python",
   "pygments_lexer": "ipython3",
   "version": "3.8.3"
  }
 },
 "nbformat": 4,
 "nbformat_minor": 2
}
